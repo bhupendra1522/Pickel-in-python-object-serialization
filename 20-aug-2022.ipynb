{
 "cells": [
  {
   "cell_type": "markdown",
   "id": "65f2c8d7",
   "metadata": {},
   "source": [
    "# Pickel in python: object serialization"
   ]
  },
  {
   "cell_type": "code",
   "execution_count": 15,
   "id": "3fcae147",
   "metadata": {},
   "outputs": [],
   "source": [
    "import pickle"
   ]
  },
  {
   "cell_type": "code",
   "execution_count": 5,
   "id": "1893418f",
   "metadata": {},
   "outputs": [],
   "source": [
    "flower_dict = {1:'rose',2:'lily',3:'lotus',4:'tilip'}"
   ]
  },
  {
   "cell_type": "raw",
   "id": "a5e845e4",
   "metadata": {},
   "source": [
    "file name = 'flower'\n",
    "out file = open(filename, wb)"
   ]
  },
  {
   "cell_type": "code",
   "execution_count": 6,
   "id": "be8b1640",
   "metadata": {},
   "outputs": [],
   "source": [
    "# filename ='flower'\n",
    "outfile = open('flower.obj','wb') # wb(write binary) , obj (object file)"
   ]
  },
  {
   "cell_type": "code",
   "execution_count": 8,
   "id": "1bb3f7b6",
   "metadata": {},
   "outputs": [],
   "source": [
    "# pickling the file\n",
    "#dump method serialization\n",
    "\n",
    "pickle.dump(flower_dict,outfile)\n",
    "outfile.close()"
   ]
  },
  {
   "cell_type": "raw",
   "id": "1ae25239",
   "metadata": {},
   "source": [
    "# unpickle  thw file\n",
    "infile=open(filename,'rb')"
   ]
  },
  {
   "cell_type": "code",
   "execution_count": 9,
   "id": "0f859e08",
   "metadata": {},
   "outputs": [],
   "source": [
    "# unpickle the file\n",
    "infile=open('flower.obj','rb') #  open methode - tcp ip on internate"
   ]
  },
  {
   "cell_type": "code",
   "execution_count": 10,
   "id": "ce2a5e83",
   "metadata": {},
   "outputs": [],
   "source": [
    "#de - serialize\n",
    "# load methode\n",
    "new_dict=pickle.load(infile)\n"
   ]
  },
  {
   "cell_type": "code",
   "execution_count": 12,
   "id": "2bae47c0",
   "metadata": {},
   "outputs": [],
   "source": [
    "infile.close()"
   ]
  },
  {
   "cell_type": "code",
   "execution_count": 13,
   "id": "62df6472",
   "metadata": {},
   "outputs": [
    {
     "name": "stdout",
     "output_type": "stream",
     "text": [
      "{1: 'rose', 2: 'lily', 3: 'lotus', 4: 'tilip'}\n"
     ]
    }
   ],
   "source": [
    "print(new_dict)"
   ]
  },
  {
   "cell_type": "code",
   "execution_count": 14,
   "id": "ccc6e530",
   "metadata": {},
   "outputs": [
    {
     "name": "stdout",
     "output_type": "stream",
     "text": [
      "True\n"
     ]
    }
   ],
   "source": [
    " print(new_dict==flower_dict)"
   ]
  },
  {
   "cell_type": "code",
   "execution_count": null,
   "id": "e2ae60e2",
   "metadata": {},
   "outputs": [],
   "source": []
  },
  {
   "cell_type": "code",
   "execution_count": null,
   "id": "5594c142",
   "metadata": {},
   "outputs": [],
   "source": []
  },
  {
   "cell_type": "code",
   "execution_count": null,
   "id": "80893fb5",
   "metadata": {},
   "outputs": [],
   "source": []
  },
  {
   "cell_type": "code",
   "execution_count": null,
   "id": "cdc64051",
   "metadata": {},
   "outputs": [],
   "source": [
    "syntex error"
   ]
  },
  {
   "cell_type": "code",
   "execution_count": 2,
   "id": "ff80199a",
   "metadata": {},
   "outputs": [
    {
     "ename": "NameError",
     "evalue": "name 'ptr' is not defined",
     "output_type": "error",
     "traceback": [
      "\u001b[1;31m---------------------------------------------------------------------------\u001b[0m",
      "\u001b[1;31mNameError\u001b[0m                                 Traceback (most recent call last)",
      "Input \u001b[1;32mIn [2]\u001b[0m, in \u001b[0;36m<cell line: 1>\u001b[1;34m()\u001b[0m\n\u001b[1;32m----> 1\u001b[0m \u001b[38;5;28mprint\u001b[39m(\u001b[43mptr\u001b[49m)\n",
      "\u001b[1;31mNameError\u001b[0m: name 'ptr' is not defined"
     ]
    }
   ],
   "source": [
    "print(ptr)"
   ]
  },
  {
   "cell_type": "code",
   "execution_count": 3,
   "id": "fa56d784",
   "metadata": {},
   "outputs": [
    {
     "name": "stdout",
     "output_type": "stream",
     "text": [
      "1\n",
      "2\n",
      "3\n",
      "4\n",
      "5\n"
     ]
    }
   ],
   "source": [
    "for i in [1,2,3,4,5]:\n",
    "    print(i)"
   ]
  },
  {
   "cell_type": "code",
   "execution_count": 4,
   "id": "cf907a40",
   "metadata": {},
   "outputs": [
    {
     "data": {
      "text/plain": [
       "28.0"
      ]
     },
     "execution_count": 4,
     "metadata": {},
     "output_type": "execute_result"
    }
   ],
   "source": [
    "56/2"
   ]
  },
  {
   "cell_type": "code",
   "execution_count": 5,
   "id": "fd9b15ff",
   "metadata": {},
   "outputs": [
    {
     "ename": "ZeroDivisionError",
     "evalue": "division by zero",
     "output_type": "error",
     "traceback": [
      "\u001b[1;31m---------------------------------------------------------------------------\u001b[0m",
      "\u001b[1;31mZeroDivisionError\u001b[0m                         Traceback (most recent call last)",
      "Input \u001b[1;32mIn [5]\u001b[0m, in \u001b[0;36m<cell line: 1>\u001b[1;34m()\u001b[0m\n\u001b[1;32m----> 1\u001b[0m \u001b[38;5;241;43m56\u001b[39;49m\u001b[38;5;241;43m/\u001b[39;49m\u001b[38;5;241;43m0\u001b[39;49m\n",
      "\u001b[1;31mZeroDivisionError\u001b[0m: division by zero"
     ]
    }
   ],
   "source": [
    "56/0"
   ]
  },
  {
   "cell_type": "code",
   "execution_count": 6,
   "id": "fa880c8a",
   "metadata": {},
   "outputs": [
    {
     "name": "stdout",
     "output_type": "stream",
     "text": [
      "enter value60\n",
      "enter value5\n"
     ]
    },
    {
     "ename": "TypeError",
     "evalue": "unsupported operand type(s) for /: 'str' and 'str'",
     "output_type": "error",
     "traceback": [
      "\u001b[1;31m---------------------------------------------------------------------------\u001b[0m",
      "\u001b[1;31mTypeError\u001b[0m                                 Traceback (most recent call last)",
      "Input \u001b[1;32mIn [6]\u001b[0m, in \u001b[0;36m<cell line: 4>\u001b[1;34m()\u001b[0m\n\u001b[0;32m      1\u001b[0m np1\u001b[38;5;241m=\u001b[39m\u001b[38;5;28minput\u001b[39m(\u001b[38;5;124m\"\u001b[39m\u001b[38;5;124menter value\u001b[39m\u001b[38;5;124m\"\u001b[39m)\n\u001b[0;32m      2\u001b[0m np2\u001b[38;5;241m=\u001b[39m\u001b[38;5;28minput\u001b[39m(\u001b[38;5;124m\"\u001b[39m\u001b[38;5;124menter value\u001b[39m\u001b[38;5;124m\"\u001b[39m)\n\u001b[1;32m----> 4\u001b[0m \u001b[43mnp1\u001b[49m\u001b[38;5;241;43m/\u001b[39;49m\u001b[43mnp2\u001b[49m\n",
      "\u001b[1;31mTypeError\u001b[0m: unsupported operand type(s) for /: 'str' and 'str'"
     ]
    }
   ],
   "source": [
    "np1=input(\"enter value\")\n",
    "np2=input(\"enter value\")\n",
    "\n",
    "np1/np2"
   ]
  },
  {
   "cell_type": "markdown",
   "id": "05de8172",
   "metadata": {},
   "source": [
    "# Handling Exeptions"
   ]
  },
  {
   "cell_type": "raw",
   "id": "e697b7ed",
   "metadata": {},
   "source": [
    "the try statment works as follows.\n",
    "first, the clause (the statment(s) between the try and exept keywords) is executed.\n",
    "if no exeption occurs, the exept clause is skipped and execution of the try statment is finished.\n",
    "if an exeption occurs during execution of the try clause, the rest of the clause is skipped.\n",
    "then if it is type maches the exeption named after the exept clause is executed, and the exclution \n",
    "continues after the try statment."
   ]
  },
  {
   "cell_type": "code",
   "execution_count": 15,
   "id": "418502dd",
   "metadata": {},
   "outputs": [
    {
     "name": "stdout",
     "output_type": "stream",
     "text": [
      "Handling run time error: division by zero\n"
     ]
    }
   ],
   "source": [
    "try:\n",
    "    79/0\n",
    "except ZeroDivisionError as err:\n",
    "    print('Handling run time error:',err)"
   ]
  },
  {
   "cell_type": "code",
   "execution_count": null,
   "id": "f85acf78",
   "metadata": {},
   "outputs": [],
   "source": [
    "try:\n",
    "    8+m*2\n",
    "except NameError as err:\n",
    "    print('Handling run time error:',err)"
   ]
  },
  {
   "cell_type": "code",
   "execution_count": 22,
   "id": "bf437ba0",
   "metadata": {},
   "outputs": [
    {
     "name": "stdout",
     "output_type": "stream",
     "text": [
      "value4\n",
      "12.5\n"
     ]
    }
   ],
   "source": [
    "try:\n",
    "    i=int(input(\"value\"))\n",
    "    p=50/i\n",
    "except zerodivisionerror:\n",
    "     print(\"zero division error\")\n",
    "except nameerror:\n",
    "    print (\"check name of variable :name error\")\n",
    "except indentationerror:\n",
    "    print(\"check endentation\")\n",
    "else:\n",
    "    print(p)"
   ]
  },
  {
   "cell_type": "code",
   "execution_count": 23,
   "id": "ce6ea98f",
   "metadata": {},
   "outputs": [
    {
     "name": "stdout",
     "output_type": "stream",
     "text": [
      "20\n",
      "30\n",
      "out of range\n",
      "end\n"
     ]
    }
   ],
   "source": [
    "a=[10,20,30]\n",
    "\n",
    "try:\n",
    "    print(a[1])\n",
    "    print(a[2])\n",
    "    print(a[3])\n",
    "except:\n",
    "    print(\"out of range\")\n",
    "else:\n",
    "    print(\"hello\")\n",
    "finally:\n",
    "    print(\"end\")"
   ]
  },
  {
   "cell_type": "code",
   "execution_count": null,
   "id": "038a31ff",
   "metadata": {},
   "outputs": [],
   "source": [
    "try:\n",
    "    i=int(input(\"value\"))\n",
    "    p=50/i\n",
    "except:\n",
    "    print(\"an error occured\")\n",
    "else:\n",
    "    print(p)\n",
    "    "
   ]
  },
  {
   "cell_type": "code",
   "execution_count": 6,
   "id": "f9b7267b",
   "metadata": {},
   "outputs": [],
   "source": [
    "def testf():\n",
    "    a=int(input('enter'))\n",
    "    b=int(input('enter'))\n",
    "    c=a/b\n",
    "    print(\"c\",c)"
   ]
  },
  {
   "cell_type": "code",
   "execution_count": null,
   "id": "a1c3d652",
   "metadata": {},
   "outputs": [],
   "source": [
    "try:\n",
    "    testf()\n",
    "except zerodivisionerror:\n",
    "    \n",
    "    print(\"divide by zero\")"
   ]
  },
  {
   "cell_type": "code",
   "execution_count": 17,
   "id": "d9949697",
   "metadata": {},
   "outputs": [
    {
     "name": "stdout",
     "output_type": "stream",
     "text": [
      "enter20\n",
      "enter10\n",
      "c 2.0\n"
     ]
    }
   ],
   "source": [
    "try:\n",
    "    testf()\n",
    "except ArithmeticError:\n",
    "    print('some error')\n",
    "    print(\"ArithmaticErrer\")\n"
   ]
  },
  {
   "cell_type": "code",
   "execution_count": 25,
   "id": "c2f98e56",
   "metadata": {},
   "outputs": [],
   "source": [
    "def typecasting_func():\n",
    "    x=input(\"enter value\")\n",
    "    y=input(\"enter value\")\n",
    "    z=x*y\n",
    "    print(\"z=\",z)"
   ]
  },
  {
   "cell_type": "code",
   "execution_count": 24,
   "id": "d58a024b",
   "metadata": {},
   "outputs": [
    {
     "name": "stdout",
     "output_type": "stream",
     "text": [
      "enter value89\n",
      "enter value4\n"
     ]
    },
    {
     "ename": "NameError",
     "evalue": "name 'typeError' is not defined",
     "output_type": "error",
     "traceback": [
      "\u001b[1;31m---------------------------------------------------------------------------\u001b[0m",
      "\u001b[1;31mTypeError\u001b[0m                                 Traceback (most recent call last)",
      "Input \u001b[1;32mIn [24]\u001b[0m, in \u001b[0;36m<cell line: 1>\u001b[1;34m()\u001b[0m\n\u001b[0;32m      1\u001b[0m \u001b[38;5;28;01mtry\u001b[39;00m:\n\u001b[1;32m----> 2\u001b[0m     \u001b[43mtypecasting_func\u001b[49m\u001b[43m(\u001b[49m\u001b[43m)\u001b[49m\n\u001b[0;32m      3\u001b[0m \u001b[38;5;28;01mexcept\u001b[39;00m typeError:\n",
      "Input \u001b[1;32mIn [18]\u001b[0m, in \u001b[0;36mtypecasting_func\u001b[1;34m()\u001b[0m\n\u001b[0;32m      3\u001b[0m y\u001b[38;5;241m=\u001b[39m\u001b[38;5;28minput\u001b[39m(\u001b[38;5;124m\"\u001b[39m\u001b[38;5;124menter value\u001b[39m\u001b[38;5;124m\"\u001b[39m)\n\u001b[1;32m----> 4\u001b[0m z\u001b[38;5;241m=\u001b[39m\u001b[43mx\u001b[49m\u001b[38;5;241;43m*\u001b[39;49m\u001b[43my\u001b[49m\n\u001b[0;32m      5\u001b[0m \u001b[38;5;28mprint\u001b[39m(\u001b[38;5;124m\"\u001b[39m\u001b[38;5;124mz=\u001b[39m\u001b[38;5;124m\"\u001b[39m,z)\n",
      "\u001b[1;31mTypeError\u001b[0m: can't multiply sequence by non-int of type 'str'",
      "\nDuring handling of the above exception, another exception occurred:\n",
      "\u001b[1;31mNameError\u001b[0m                                 Traceback (most recent call last)",
      "Input \u001b[1;32mIn [24]\u001b[0m, in \u001b[0;36m<cell line: 1>\u001b[1;34m()\u001b[0m\n\u001b[0;32m      1\u001b[0m \u001b[38;5;28;01mtry\u001b[39;00m:\n\u001b[0;32m      2\u001b[0m     typecasting_func()\n\u001b[1;32m----> 3\u001b[0m \u001b[38;5;28;01mexcept\u001b[39;00m \u001b[43mtypeError\u001b[49m:\n\u001b[0;32m      4\u001b[0m     \u001b[38;5;28mprint\u001b[39m(\u001b[38;5;124m\"\u001b[39m\u001b[38;5;124mtypecast error\u001b[39m\u001b[38;5;124m\"\u001b[39m)\n",
      "\u001b[1;31mNameError\u001b[0m: name 'typeError' is not defined"
     ]
    }
   ],
   "source": [
    "try:\n",
    "    typecasting_func()\n",
    "except typeError:\n",
    "    print(\"typecast error\")"
   ]
  },
  {
   "cell_type": "code",
   "execution_count": 26,
   "id": "6bf959ab",
   "metadata": {},
   "outputs": [
    {
     "ename": "SyntaxError",
     "evalue": "unmatched ')' (1967759225.py, line 2)",
     "output_type": "error",
     "traceback": [
      "\u001b[1;36m  Input \u001b[1;32mIn [26]\u001b[1;36m\u001b[0m\n\u001b[1;33m    )\u001b[0m\n\u001b[1;37m    ^\u001b[0m\n\u001b[1;31mSyntaxError\u001b[0m\u001b[1;31m:\u001b[0m unmatched ')'\n"
     ]
    }
   ],
   "source": [
    "# print(readme.read))\n"
   ]
  },
  {
   "cell_type": "code",
   "execution_count": 27,
   "id": "3feb6823",
   "metadata": {},
   "outputs": [],
   "source": [
    "#readme.close()"
   ]
  },
  {
   "cell_type": "code",
   "execution_count": 29,
   "id": "9e085904",
   "metadata": {},
   "outputs": [
    {
     "name": "stdout",
     "output_type": "stream",
     "text": [
      "the file opened succesfully\n",
      "22\n"
     ]
    }
   ],
   "source": [
    "try:\n",
    "    appendfile=open('deofile.txt',\"a\")\n",
    "except IOError:\n",
    "    print(\"file not found\")\n",
    "else:\n",
    "    print(\"the file opened succesfully\")\n",
    "    print(appendfile.write(\"\\n thi is the next line\"))"
   ]
  },
  {
   "cell_type": "code",
   "execution_count": 30,
   "id": "54a337ff",
   "metadata": {},
   "outputs": [],
   "source": [
    "#appendfile.write(\"\\n this is the next line\")"
   ]
  },
  {
   "cell_type": "code",
   "execution_count": 31,
   "id": "7ea62f50",
   "metadata": {},
   "outputs": [],
   "source": [
    "#appendfile.close()"
   ]
  },
  {
   "cell_type": "code",
   "execution_count": 35,
   "id": "21f04e6f",
   "metadata": {},
   "outputs": [],
   "source": [
    "readme=open('deofile.txt','r')"
   ]
  },
  {
   "cell_type": "code",
   "execution_count": 36,
   "id": "31b34fb3",
   "metadata": {},
   "outputs": [
    {
     "name": "stdout",
     "output_type": "stream",
     "text": [
      "\n"
     ]
    }
   ],
   "source": [
    "print(readme.read())"
   ]
  },
  {
   "cell_type": "markdown",
   "id": "abfccf8b",
   "metadata": {},
   "source": [
    "# practice python codes"
   ]
  },
  {
   "cell_type": "code",
   "execution_count": null,
   "id": "c10a1c57",
   "metadata": {},
   "outputs": [],
   "source": [
    "DBMS(data base management system)\n"
   ]
  }
 ],
 "metadata": {
  "kernelspec": {
   "display_name": "Python 3 (ipykernel)",
   "language": "python",
   "name": "python3"
  },
  "language_info": {
   "codemirror_mode": {
    "name": "ipython",
    "version": 3
   },
   "file_extension": ".py",
   "mimetype": "text/x-python",
   "name": "python",
   "nbconvert_exporter": "python",
   "pygments_lexer": "ipython3",
   "version": "3.9.12"
  }
 },
 "nbformat": 4,
 "nbformat_minor": 5
}
